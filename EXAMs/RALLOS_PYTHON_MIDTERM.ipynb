{
 "cells": [
  {
   "cell_type": "markdown",
   "id": "fc77e3a9-ceba-45c8-8e91-71624f39aabc",
   "metadata": {},
   "source": [
    "# CHRIST HANZEN RALLOS           -          MIDTERM - PYTHON               -                 BSIT - 3 "
   ]
  },
  {
   "cell_type": "markdown",
   "id": "97c30401-1d3f-4de3-b349-2b211578d513",
   "metadata": {},
   "source": [
    "QUESTION 1\n",
    "\n",
    "Q1. String Normalizer & Finder. Write a function normalize_and_find(text:\n",
    "str, needle: str) -> int that: (1) trims whitespace on both ends, (2) converts to lowercase, then (3) returns the index of the first occurrence of needle using\n",
    "a safe search (return −1 if not found). Discuss alternatives (find vs. index), and\n",
    "how your choice affects error handling. Anchor concepts: stripping, case conversion,\n",
    "find/replace, string immutability. Reference: :contentReference[oaicite:6]index=6\n",
    "\n",
    "PROMPT:\n",
    "Write a Python function normalize_and_find(text: str, needle: str) -> int that trims whitespace, lowercases, and returns the first index of needle (return -1 if not found).    "
   ]
  },
  {
   "cell_type": "code",
   "execution_count": 20,
   "id": "5a7f86b2-687f-4177-b22f-d9073b071eba",
   "metadata": {},
   "outputs": [],
   "source": [
    "#ChatGPT Code:\n",
    "\n",
    "def normalize_and_find(text, needle):\n",
    "    text = text.lower().strip()\n",
    "    needle = needle.lower()\n",
    "    return text.index(needle)"
   ]
  },
  {
   "cell_type": "markdown",
   "id": "6f30beca-d783-4b21-b973-e7bfbb19d378",
   "metadata": {},
   "source": [
    "Critique:\n",
    "• Correctness – Works when needle exists; raises ValueError when not found (unsafe).\n",
    "• Complexity – O(n) for the search.\n",
    "• Robustness – No type checks; using .index() makes it fragile.\n",
    "• Readability – Short and direct but missing docstring/comments.\n",
    "• Faithfulness – Uses strip/lower consistent with lecture material."
   ]
  },
  {
   "cell_type": "code",
   "execution_count": 26,
   "id": "1d7d6dea-c992-4f4e-8129-6691e6122c60",
   "metadata": {},
   "outputs": [
    {
     "name": "stdout",
     "output_type": "stream",
     "text": [
      "6\n",
      "-1\n"
     ]
    }
   ],
   "source": [
    "# Improved Version:\n",
    "\n",
    "def normalize_and_find(text: str, needle: str) -> int:\n",
    "    \"\"\"\n",
    "    Trim whitespace, lowercase both inputs, and return first index of needle.\n",
    "    Returns -1 if needle not found.\n",
    "    \"\"\"\n",
    "    if not isinstance(text, str) or not isinstance(needle, str):\n",
    "        raise TypeError(\"text and needle must be strings\")\n",
    "\n",
    "    cleaned_text = text.strip().lower()\n",
    "    cleaned_needle = needle.lower()\n",
    "    # Use .find() to safely return -1 when not found\n",
    "    return cleaned_text.find(cleaned_needle)\n",
    "\n",
    "\n",
    "# --- Tests ---\n",
    "print(normalize_and_find(\"   Hello World   \", \"world\"))  # Expected: 6\n",
    "print(normalize_and_find(\"Python\", \"java\"))               # Expected: -1\n"
   ]
  },
  {
   "cell_type": "markdown",
   "id": "68b86e61-a7c2-46c1-8291-ce3e9bbc7bbb",
   "metadata": {},
   "source": [
    "==========================================================================================================================================================================================================="
   ]
  },
  {
   "cell_type": "markdown",
   "id": "5ef5dc06-ec70-47ce-ad5e-9b00f285ff13",
   "metadata": {},
   "source": [
    "QUESTION 2\n",
    "\n",
    "Q2. Leetspeak Translator (Parametric). Generalize our leetspeak idea: write translate(text:\n",
    "str, mapping: dict[str,str]) -> str that applies a mapping (e.g., {’a’:’4’,’e’:’3’,...})\n",
    "over lowercase letters only, leaving others unchanged. Explain why strings are immutable and show an efficient approach (e.g., list join vs. repeated concatenation).\n",
    "Anchor concepts: replace, iteration strategies, efficiency. Reference: :contentReference[oaicite:7]index=7\n",
    "\n",
    "PROMPT:\n",
    "Using Python, write translate(text: str, mapping: dict[str,str]) -> str that applies mapping to lowercase letters only, leaving others unchanged. Use an efficient approach."
   ]
  },
  {
   "cell_type": "code",
   "execution_count": 23,
   "id": "2dc1aef5-ffde-460f-87a7-1126f016c3b4",
   "metadata": {},
   "outputs": [],
   "source": [
    "#ChatGPT Code:\n",
    "\n",
    "def translate(text, mapping):\n",
    "    result = \"\"\n",
    "    for ch in text:\n",
    "        result += mapping.get(ch, ch)\n",
    "    return result"
   ]
  },
  {
   "cell_type": "markdown",
   "id": "7dfa5d4d-3ebb-4061-9c7c-4e60d5f8420a",
   "metadata": {},
   "source": [
    "Critique:\n",
    "• Correctness – Works for direct replacements but replaces any matching character, not limited to lowercase-only as requested.\n",
    "• Complexity – O(n) time, but repeated concatenation is inefficient in CPython.\n",
    "• Robustness – No type validation; mapping assumed valid.\n",
    "• Readability – Compact but lacks docstring and comments.\n",
    "• Faithfulness – Uses iteration and dict lookup, consistent with lecture examples."
   ]
  },
  {
   "cell_type": "code",
   "execution_count": 25,
   "id": "46cc86b6-8d75-4753-b510-b9f28a4edd25",
   "metadata": {},
   "outputs": [
    {
     "name": "stdout",
     "output_type": "stream",
     "text": [
      "I l1k3 70 347 3gg5 4nd 5p4m.\n",
      "ABC47\n"
     ]
    }
   ],
   "source": [
    "#Improved Version:\n",
    "\n",
    "def translate(text: str, mapping: dict[str, str]) -> str:\n",
    "    \"\"\"\n",
    "    Replace characters in text according to mapping, applying mapping only to lowercase letters.\n",
    "    Efficient: collects chars in a list then joins to avoid repeated string concatenation.\n",
    "    \"\"\"\n",
    "    if not isinstance(text, str) or not isinstance(mapping, dict):\n",
    "        raise TypeError(\"text must be str and mapping must be dict\")\n",
    "\n",
    "    out = []\n",
    "    for ch in text:\n",
    "        if ch.islower() and ch in mapping:\n",
    "            out.append(mapping[ch])\n",
    "        else:\n",
    "            out.append(ch)\n",
    "    return \"\".join(out)\n",
    "\n",
    "\n",
    "# --- Tests ---\n",
    "mapping = {'a': '4', 'e': '3', 'i': '1', 'o': '0', 's': '5', 't': '7'}\n",
    "\n",
    "print(translate(\"I like to eat eggs and spam.\", mapping))\n",
    "print(translate(\"ABCat\", mapping))\n"
   ]
  },
  {
   "cell_type": "markdown",
   "id": "fbb9e4c8-ccea-442a-a884-84b6a8d52dfc",
   "metadata": {},
   "source": [
    "==========================================================================================================================================================================================================="
   ]
  },
  {
   "cell_type": "markdown",
   "id": "371e7c50-eebf-4a5c-b6fa-a85e87c494b6",
   "metadata": {},
   "source": [
    "QUESTION 3\n",
    "\n",
    "Q3. Currency Formatter & Rounding Ties-to-Even. Write fmt_money(x: float)\n",
    "-> str that returns a string like 1,234.50 using proper rounding (banker’s rounding / ties-to-even). Include test cases that demonstrate ties (e.g., 2.5, 3.5). Explain\n",
    "2\n",
    "floating-point representation error and how formatting mitigates it for display. Anchor concepts: numbers, round, representation error, formatted printing. Reference:\n",
    ":contentReference[oaicite:8]index=8\n",
    "\n",
    "PROMPT:\n",
    "Using Python, write fmt_money(x: float) -> str that formats numbers like 1,234.50 using ties-to-even rounding (banker's rounding). Demonstrate ties."
   ]
  },
  {
   "cell_type": "code",
   "execution_count": 27,
   "id": "74133ac7-df49-427f-acae-65bc22bb229f",
   "metadata": {},
   "outputs": [],
   "source": [
    "#ChatGPT Code:\n",
    "\n",
    "def fmt_money(x):\n",
    "    return \"{:,.2f}\".format(round(x, 2))"
   ]
  },
  {
   "cell_type": "markdown",
   "id": "71287194-5956-49da-8e74-55d4ec5e4d36",
   "metadata": {},
   "source": [
    "Critique:\n",
    "• Correctness – Produces formatted currency; relies on round() for ties-to-even.\n",
    "• Complexity – O(1) relative to input size.\n",
    "• Robustness – No input type checking; returns formatted string for numeric inputs.\n",
    "• Readability – One-liner but lacks docstring/comments.\n",
    "• Faithfulness – Uses Python's rounding behavior consistent with lecture."
   ]
  },
  {
   "cell_type": "code",
   "execution_count": 29,
   "id": "4f6d8cef-dc7d-4f98-aa44-d9a1bbfb0b31",
   "metadata": {},
   "outputs": [
    {
     "name": "stdout",
     "output_type": "stream",
     "text": [
      "1,234.50\n",
      "2.50\n",
      "3.50\n",
      "2.35\n"
     ]
    }
   ],
   "source": [
    "#Improved Version:\n",
    "\n",
    "def fmt_money(x: float) -> str:\n",
    "    \"\"\"\n",
    "    Format a number as currency with commas and two decimals.\n",
    "    Uses Python's round() which implements ties-to-even.\n",
    "    \"\"\"\n",
    "    if not isinstance(x, (int, float)):\n",
    "        raise TypeError(\"x must be a number\")\n",
    "\n",
    "    # round(x, 2) uses ties-to-even; format to include commas and two decimals\n",
    "    return f\"{round(x, 2):,.2f}\"\n",
    "\n",
    "# --- Tests / Demonstrations ---\n",
    "print(fmt_money(1234.5))   # 1,234.50\n",
    "print(fmt_money(2.5))      # 2.50 (ties-to-even: 2.5 -> 2.0 then formatted => 2.00 but round(2.5,0)=2.0; here for two decimals it shows 2.50)\n",
    "print(fmt_money(3.5))      # 3.50 (ties-to-even)\n",
    "# Some explicit tie example:\n",
    "print(fmt_money(2.345))    # 2.34 or 2.35 depending on binary representation; round handles ties-to-even"
   ]
  },
  {
   "cell_type": "markdown",
   "id": "631ba3c1-7869-41f9-b3f1-09fcb947c38a",
   "metadata": {},
   "source": [
    "==========================================================================================================================================================================================================="
   ]
  },
  {
   "cell_type": "markdown",
   "id": "51b4e05e-75ec-416b-a059-d24ff4e1ddaf",
   "metadata": {},
   "source": [
    "QUESTION 4\n",
    "\n",
    "Q4. Exponent Tool & Input Validation. Create a CLI program exponent.py that\n",
    "reads two values, validates they are numeric, handles errors gracefully (e.g., ValueError),\n",
    "and prints a ** b with clear messages. Compare using try/except vs. pre-validation\n",
    "with str.isdigit() (and why isdigit() is insufficient for negatives/floats). Anchor concepts: arithmetic operators, exceptions, input. Reference: :contentReference[oaicite:9]index=9, :contentReference[oaicite:10]index=10\n",
    "\n",
    "PROMPT:\n",
    "Create a CLI program that reads two values, validates they are numeric, handles errors gracefully (e.g., ValueError), and prints a ** b. Compare try/except vs pre-validation."
   ]
  },
  {
   "cell_type": "code",
   "execution_count": 30,
   "id": "19413b14-4b57-4026-ac82-fc27078c41ef",
   "metadata": {},
   "outputs": [
    {
     "name": "stdin",
     "output_type": "stream",
     "text": [
      "Base:  2\n",
      "Exponent:  6\n"
     ]
    },
    {
     "name": "stdout",
     "output_type": "stream",
     "text": [
      "64.0\n"
     ]
    }
   ],
   "source": [
    "#ChatGPT Code:\n",
    "\n",
    "a = input(\"Base: \")\n",
    "b = input(\"Exponent: \")\n",
    "print(float(a) ** float(b))"
   ]
  },
  {
   "cell_type": "markdown",
   "id": "14253967-dedc-4aa7-b558-281360acaf1f",
   "metadata": {},
   "source": [
    "Critique:\n",
    "• Correctness – Works when inputs are valid numeric strings.\n",
    "• Complexity – O(1) arithmetic complexity.\n",
    "• Robustness – Crashes on invalid input; no exception handling.\n",
    "• Readability – Minimal; no function abstraction or messages.\n",
    "• Faithfulness – Needs try/except as recommended in lectures."
   ]
  },
  {
   "cell_type": "code",
   "execution_count": 32,
   "id": "42669f3c-b5a0-4b0c-ba9f-7e1199ca1696",
   "metadata": {},
   "outputs": [
    {
     "name": "stdout",
     "output_type": "stream",
     "text": [
      "8.0\n",
      "6.25\n",
      "Invalid\n"
     ]
    }
   ],
   "source": [
    "# Improved Version:\n",
    "\n",
    "def exponent_cli():\n",
    "    \"\"\"\n",
    "    Read two numbers from the user, validate via try/except,\n",
    "    and print a ** b. Demonstrates why try/except is preferred for numeric parsing.\n",
    "    \"\"\"\n",
    "    try:\n",
    "        a_str = input(\"Enter base: \").strip()\n",
    "        b_str = input(\"Enter exponent: \").strip()\n",
    "        a = float(a_str)\n",
    "        b = float(b_str)\n",
    "    except ValueError:\n",
    "        print(\"Invalid numeric input. Please enter valid numbers (integers or floats).\")\n",
    "        return\n",
    "    result = a ** b\n",
    "    print(f\"{a} ** {b} = {result}\")\n",
    "\n",
    "\n",
    "# --- Example run (interactive) ---\n",
    "# exponent_cli()\n",
    "\n",
    "\n",
    "# Automated demonstration\n",
    "def _demo_exponent(a, b):\n",
    "    try:\n",
    "        a_val = float(a)\n",
    "        b_val = float(b)\n",
    "        return a_val ** b_val\n",
    "    except ValueError:\n",
    "        return \"Invalid\"\n",
    "\n",
    "\n",
    "# --- Prints instead of asserts ---\n",
    "print(_demo_exponent(\"2\", \"3\"))     # Expected: 8.0\n",
    "print(_demo_exponent(\"2.5\", \"2\"))   # Expected: 6.25\n",
    "print(_demo_exponent(\"x\", \"2\"))     # Expected: Invalid\n"
   ]
  },
  {
   "cell_type": "markdown",
   "id": "6e417277-a9ab-42e5-8109-6e2b8ef4a242",
   "metadata": {},
   "source": [
    "==========================================================================================================================================================================================================="
   ]
  },
  {
   "cell_type": "markdown",
   "id": "b8f4237a-f586-4371-93b6-d2fd6c6d1c5c",
   "metadata": {},
   "source": [
    "QUESTION 5\n",
    "\n",
    "Q5. Password Policy Checker (If/Elif/Else + Loops). Implement check_password(pw:\n",
    "str) -> dict that validates: length ≥ 10, at least one uppercase, one lowercase,\n",
    "one digit, one symbol in !@#$%^&*, and no spaces. Return a dict of booleans per\n",
    "rule and an overall pass/fail. Include a loop that prompts until a valid password\n",
    "is entered (allow quit with Q/q). Anchor concepts: conditionals, logical operators,\n",
    "loops, break/continue. Reference: :contentReference[oaicite:11]index=11\n",
    "\n",
    "PROMPT:\n",
    "Implement check_password(pw: str) -> dict validating: length ≥ 10, at least one uppercase, one lowercase, one digit, one symbol in !@#$%^&*, and no spaces. Return dict of booleans and an overall pass/fail. Include a loop that prompts until a valid password is entered (allow quit with Q/q)."
   ]
  },
  {
   "cell_type": "code",
   "execution_count": 33,
   "id": "60e09d1b-bc8b-4dbd-9c22-a1cd27062dfb",
   "metadata": {},
   "outputs": [],
   "source": [
    "#ChatGPT Code:\n",
    "\n",
    "def check_password(pw):\n",
    "    return len(pw) > 8"
   ]
  },
  {
   "cell_type": "markdown",
   "id": "9f32e534-76a7-41e8-a004-75883a3aabb2",
   "metadata": {},
   "source": [
    "Critique:\n",
    "• Correctness – Too simplistic; only length is checked.\n",
    "• Complexity – O(n) scanning the password.\n",
    "• Robustness – Missing checks for required character classes and spaces.\n",
    "• Readability – Minimal; needs comments and clear return structure.\n",
    "• Faithfulness – Should implement multiple rules as in lecture."
   ]
  },
  {
   "cell_type": "code",
   "execution_count": 36,
   "id": "23daebd2-b3fd-40f6-8375-947646a796f9",
   "metadata": {},
   "outputs": [
    {
     "name": "stdout",
     "output_type": "stream",
     "text": [
      "\n",
      "Checking password: Short1!\n",
      "Length >= 10: False\n",
      "Has Uppercase: True\n",
      "Has Lowercase: True\n",
      "Has Digit: True\n",
      "Has Symbol: True\n",
      "No Spaces: True\n",
      "Valid: False\n",
      "❌ Password failed requirements.\n",
      "\n",
      "Checking password: GoodPass1!\n",
      "Length >= 10: True\n",
      "Has Uppercase: True\n",
      "Has Lowercase: True\n",
      "Has Digit: True\n",
      "Has Symbol: True\n",
      "No Spaces: True\n",
      "Valid: True\n",
      "✅ Password accepted.\n"
     ]
    }
   ],
   "source": [
    "# Improved Version:\n",
    "\n",
    "def check_password(pw: str) -> dict:\n",
    "    \"\"\"\n",
    "    Check password against required rules and return a dict with rule results.\n",
    "    Rules:\n",
    "      - Length >= 10\n",
    "      - At least one uppercase\n",
    "      - At least one lowercase\n",
    "      - At least one digit\n",
    "      - At least one symbol from !@#$%^&*\n",
    "      - No spaces\n",
    "    \"\"\"\n",
    "    if not isinstance(pw, str):\n",
    "        raise TypeError(\"Password must be a string\")\n",
    "\n",
    "    rules = {\n",
    "        \"Length >= 10\": len(pw) >= 10,\n",
    "        \"Has Uppercase\": any(c.isupper() for c in pw),\n",
    "        \"Has Lowercase\": any(c.islower() for c in pw),\n",
    "        \"Has Digit\": any(c.isdigit() for c in pw),\n",
    "        \"Has Symbol\": any(c in \"!@#$%^&*\" for c in pw),\n",
    "        \"No Spaces\": \" \" not in pw\n",
    "    }\n",
    "    rules[\"Valid\"] = all(rules.values())\n",
    "    return rules\n",
    "\n",
    "\n",
    "# --- Demonstration ---\n",
    "def show_result(pw):\n",
    "    print(f\"\\nChecking password: {pw}\")\n",
    "    result = check_password(pw)\n",
    "    for k, v in result.items():\n",
    "        print(f\"{k}: {v}\")\n",
    "    if result[\"Valid\"]:\n",
    "        print(\"✅ Password accepted.\")\n",
    "    else:\n",
    "        print(\"❌ Password failed requirements.\")\n",
    "\n",
    "\n",
    "# --- Test runs ---\n",
    "show_result(\"Short1!\")\n",
    "show_result(\"GoodPass1!\")\n"
   ]
  },
  {
   "cell_type": "markdown",
   "id": "c33670bf-21a9-4fe3-ab61-3e50a3e71d96",
   "metadata": {},
   "source": [
    "==========================================================================================================================================================================================================="
   ]
  },
  {
   "cell_type": "markdown",
   "id": "bc943af9-03f8-4470-a493-19440790bbcb",
   "metadata": {},
   "source": [
    "QUESTION 6\n",
    "\n",
    "Q6. Dice Simulation (Monte Carlo). Write roll() -> int to simulate a fair die,\n",
    "then simulate 100,000 rolls to estimate the probability that the sum of two dice\n",
    "equals 7. Compare empirical result to the exact probability. Comment on random\n",
    "seeding and reproducibility. Anchor concepts: random module, simulation, averages.\n",
    "Reference: :contentReference[oaicite:12]index=12\n",
    "\n",
    "PROMPT:\n",
    "Write roll() -> int to simulate a fair die, then simulate 100,000 rolls to estimate the probability that the sum of two dice equals 7. Compare empirical result to the exact probability and discuss seeding."
   ]
  },
  {
   "cell_type": "code",
   "execution_count": 37,
   "id": "3a784104-1258-4847-a3ee-57fbaf5fc808",
   "metadata": {},
   "outputs": [
    {
     "name": "stdout",
     "output_type": "stream",
     "text": [
      "0.16748\n"
     ]
    }
   ],
   "source": [
    "#ChatGPT Code:\n",
    "\n",
    "import random\n",
    "count = 0\n",
    "for i in range(100000):\n",
    "    if random.randint(1,6) + random.randint(1,6) == 7:\n",
    "        count += 1\n",
    "print(count / 100000)"
   ]
  },
  {
   "cell_type": "markdown",
   "id": "fd0ac84f-8666-4c77-a427-3767a9102ced",
   "metadata": {},
   "source": [
    "Critique:\n",
    "• Correctness – Simulation approximates the true probability (1/6).\n",
    "• Complexity – O(trials) time.\n",
    "• Robustness – Works; would benefit from functionization and optional seed for reproducibility.\n",
    "• Readability – Clear but not encapsulated.\n",
    "• Faithfulness – Uses random per lecture; seeding comment missing."
   ]
  },
  {
   "cell_type": "code",
   "execution_count": 39,
   "id": "1757b7f3-0579-465c-a611-7c4c7576df60",
   "metadata": {},
   "outputs": [
    {
     "name": "stdout",
     "output_type": "stream",
     "text": [
      "Estimated: 0.16456, Exact: 0.16667\n"
     ]
    }
   ],
   "source": [
    "#Improved Version:\n",
    "\n",
    "import random\n",
    "\n",
    "def roll() -> int:\n",
    "    \"\"\"Return a random integer from 1 to 6 inclusive representing a die roll.\"\"\"\n",
    "    return random.randint(1, 6)\n",
    "\n",
    "def estimate_prob_sum7(trials: int = 100_000, seed: int | None = None) -> float:\n",
    "    \"\"\"\n",
    "    Estimate probability that two dice sum to 7 by simulation.\n",
    "    If seed is not None, the RNG will be seeded for reproducibility.\n",
    "    \"\"\"\n",
    "    if seed is not None:\n",
    "        random.seed(seed)\n",
    "    success = 0\n",
    "    for _ in range(trials):\n",
    "        if roll() + roll() == 7:\n",
    "            success += 1\n",
    "    return success / trials\n",
    "\n",
    "# --- Run simulation (deterministic demonstration with seed) ---\n",
    "estimated = estimate_prob_sum7(trials=100_000, seed=42)\n",
    "exact = 6/36  # 1/6\n",
    "print(f\"Estimated: {estimated:.5f}, Exact: {exact:.5f}\")\n"
   ]
  },
  {
   "cell_type": "markdown",
   "id": "920995b6-c0a2-4631-959b-17a4fe8f5826",
   "metadata": {},
   "source": [
    "==========================================================================================================================================================================================================="
   ]
  },
  {
   "cell_type": "markdown",
   "id": "0bbaa15b-0323-4a32-947f-c81486df708b",
   "metadata": {},
   "source": [
    "QUESTION 7\n",
    "\n",
    "Q7. OOP: Vehicles with Odometer and Fuel. Design classes Vehicle (base),\n",
    "Car and Truck (children). Each has color, mileage, and fuel_liters. Provide\n",
    "drive(km, km_per_liter) which increments mileage and decreases fuel (never below 0) and refuel(liters). Show how inheritance avoids duplication and add\n",
    "a method override in Truck (e.g., different efficiency). Include a minimal test\n",
    "script. Anchor concepts: classes vs. instances, attributes, instance methods, inheritance/override. Reference: :contentReference[oaicite:13]index=13\n",
    "\n",
    "PROMPT:\n",
    "Design classes Vehicle (base), Car and Truck (children). Each has color, mileage, and fuel_liters. Provide drive(km, km_per_liter) which increments mileage and decreases fuel (never below 0) and refuel(liters). Truck overrides efficiency (e.g., 20% less efficient). Include a minimal test script."
   ]
  },
  {
   "cell_type": "code",
   "execution_count": 40,
   "id": "39e19765-5109-49ee-98cb-c93ebea7241f",
   "metadata": {},
   "outputs": [],
   "source": [
    "#ChatGPT Code:\n",
    "\n",
    "class Vehicle:\n",
    "    def __init__(self, fuel):\n",
    "        self.fuel = fuel\n",
    "    def drive(self, km):\n",
    "        self.fuel -= km / 10"
   ]
  },
  {
   "cell_type": "markdown",
   "id": "89598d42-12f2-4490-a3a0-69c0b4d6701d",
   "metadata": {},
   "source": [
    "Critique:\n",
    "• Correctness – Partial and incomplete; missing attributes and safety checks.\n",
    "• Complexity – O(1) for drive/refuel.\n",
    "• Robustness – Can produce negative fuel and lacks validation.\n",
    "• Readability – Needs docstrings and clearer method signatures.\n",
    "• Faithfulness – Should demonstrate inheritance and override."
   ]
  },
  {
   "cell_type": "code",
   "execution_count": 42,
   "id": "59dbb97f-0d49-41e8-baea-db5b6a15c9cf",
   "metadata": {},
   "outputs": [
    {
     "name": "stdout",
     "output_type": "stream",
     "text": [
      "Car mileage: 1100.0, Car fuel left: 10.0, Driven: 100\n",
      "Truck mileage: 600.0, Truck fuel left: 47.5, Driven: 100\n",
      "demonstration complete.\n"
     ]
    }
   ],
   "source": [
    "#Improved Version:\n",
    "\n",
    "class Vehicle:\n",
    "    \"\"\"Base vehicle with color, mileage, and fuel_liters.\"\"\"\n",
    "    def __init__(self, color: str, mileage: float, fuel_liters: float):\n",
    "        self.color = color\n",
    "        self.mileage = float(mileage)\n",
    "        self.fuel_liters = float(fuel_liters)\n",
    "\n",
    "    def drive(self, km: float, km_per_liter: float) -> float:\n",
    "        \"\"\"\n",
    "        Attempt to drive `km` kilometers. Returns actual kilometers driven.\n",
    "        Consumes fuel; never allows fuel to go below 0.\n",
    "        \"\"\"\n",
    "        if km < 0 or km_per_liter <= 0:\n",
    "            raise ValueError(\"km must be >= 0 and km_per_liter must be > 0\")\n",
    "\n",
    "        fuel_needed = km / km_per_liter\n",
    "        if fuel_needed <= self.fuel_liters:\n",
    "            self.mileage += km\n",
    "            self.fuel_liters -= fuel_needed\n",
    "            return km\n",
    "        else:\n",
    "            # drive as far as fuel allows\n",
    "            actual_km = self.fuel_liters * km_per_liter\n",
    "            self.mileage += actual_km\n",
    "            self.fuel_liters = 0.0\n",
    "            return actual_km\n",
    "\n",
    "    def refuel(self, liters: float) -> None:\n",
    "        if liters < 0:\n",
    "            raise ValueError(\"Cannot refuel a negative amount\")\n",
    "        self.fuel_liters += liters\n",
    "\n",
    "class Car(Vehicle):\n",
    "    \"\"\"Car uses base vehicle behavior.\"\"\"\n",
    "    pass\n",
    "\n",
    "class Truck(Vehicle):\n",
    "    \"\"\"Truck is less efficient: consumes 20% more fuel for a given km_per_liter.\"\"\"\n",
    "    def drive(self, km: float, km_per_liter: float) -> float:\n",
    "        adjusted_efficiency = km_per_liter * 0.8  # 20% less efficient\n",
    "        return super().drive(km, adjusted_efficiency)\n",
    "\n",
    "# --- Test ---\n",
    "car = Car(\"Red\", 1000, 20)\n",
    "truck = Truck(\"Blue\", 500, 60)\n",
    "\n",
    "car_driven = car.drive(100, 10)    # needs 10 liters\n",
    "truck_driven = truck.drive(100, 10)  # uses adjusted efficiency\n",
    "\n",
    "print(f\"Car mileage: {car.mileage}, Car fuel left: {car.fuel_liters}, Driven: {car_driven}\")\n",
    "print(f\"Truck mileage: {truck.mileage}, Truck fuel left: {truck.fuel_liters}, Driven: {truck_driven}\")\n",
    "print(\"demonstration complete.\")"
   ]
  },
  {
   "cell_type": "markdown",
   "id": "88de50b5-1a09-4621-ba10-12705fd60097",
   "metadata": {},
   "source": [
    "==========================================================================================================================================================================================================="
   ]
  },
  {
   "cell_type": "markdown",
   "id": "ec382548-ed73-40ea-8cc4-43d4d4716957",
   "metadata": {},
   "source": [
    "QUESTION 8\n",
    "\n",
    "Q8. OOP + Composition: Kennel with Dogs. Using a Dog class (name, age, breed,\n",
    "bark()), implement a Kennel manager that holds multiple Dog instances, supports\n",
    "add_dog, remove_dog, oldest_dog(), and find_by_breed(breed). Compare composition vs. inheritance for this scenario. Anchor concepts: OOP design, managing\n",
    "collections of objects. Reference: :contentReference[oaicite:14]index=14\n",
    "\n",
    "PROMPT:\n",
    "Using a Dog class (name, age, breed, bark()), implement a Kennel manager that holds multiple Dog instances, supports add_dog, remove_dog, oldest_dog(), and find_by_breed(breed). Compare composition vs. inheritance for this scenario."
   ]
  },
  {
   "cell_type": "code",
   "execution_count": 43,
   "id": "472c51ab-c9d6-4268-b74d-97da99add52a",
   "metadata": {},
   "outputs": [],
   "source": [
    "#ChatGPT Code:\n",
    "\n",
    "class Dog:\n",
    "    def __init__(self, name): self.name = name\n",
    "class Kennel:\n",
    "    def __init__(self): self.dogs = []"
   ]
  },
  {
   "cell_type": "markdown",
   "id": "2a9daa6b-7e0f-472d-9b3b-72d051f887c7",
   "metadata": {},
   "source": [
    "Critique:\n",
    "• Correctness – Skeleton only; lacks required methods.\n",
    "• Complexity – Add/remove/find operations are O(n).\n",
    "• Robustness – Should handle empty kennel cases.\n",
    "• Readability – Needs docstrings and consistent method returns.\n",
    "• Faithfulness – Should demonstrate composition (Kennel has Dogs)."
   ]
  },
  {
   "cell_type": "code",
   "execution_count": 46,
   "id": "602510a7-a917-499e-a65a-7f5dc856859e",
   "metadata": {},
   "outputs": [
    {
     "name": "stdout",
     "output_type": "stream",
     "text": [
      "Oldest Dog: Charlie\n",
      "Labradors in kennel: ['Buddy', 'Max']\n",
      "Removed Charlie? True\n",
      "\n",
      "Remaining Dogs in Kennel:\n",
      "- Buddy, 5 years old, Labrador\n",
      "- Max, 3 years old, Labrador\n",
      "\n",
      "✅ All checks done.\n"
     ]
    }
   ],
   "source": [
    "# Improved Version:\n",
    "\n",
    "class Dog:\n",
    "    \"\"\"Simple Dog class with name, age, and breed.\"\"\"\n",
    "    def __init__(self, name: str, age: int, breed: str):\n",
    "        self.name = name\n",
    "        self.age = int(age)\n",
    "        self.breed = breed\n",
    "\n",
    "    def bark(self) -> str:\n",
    "        return f\"{self.name} says Woof!\"\n",
    "\n",
    "\n",
    "class Kennel:\n",
    "    \"\"\"Manages a collection of Dog instances (composition).\"\"\"\n",
    "    def __init__(self):\n",
    "        self.dogs: list[Dog] = []\n",
    "\n",
    "    def add_dog(self, dog: Dog) -> None:\n",
    "        if not isinstance(dog, Dog):\n",
    "            raise TypeError(\"add_dog expects a Dog instance\")\n",
    "        self.dogs.append(dog)\n",
    "\n",
    "    def remove_dog(self, name: str) -> bool:\n",
    "        \"\"\"Remove dog(s) by name. Returns True if at least one removed.\"\"\"\n",
    "        initial_count = len(self.dogs)\n",
    "        self.dogs = [d for d in self.dogs if d.name != name]\n",
    "        return len(self.dogs) < initial_count\n",
    "\n",
    "    def oldest_dog(self) -> Dog | None:\n",
    "        if not self.dogs:\n",
    "            return None\n",
    "        return max(self.dogs, key=lambda d: d.age)\n",
    "\n",
    "    def find_by_breed(self, breed: str) -> list[Dog]:\n",
    "        return [d for d in self.dogs if d.breed.lower() == breed.lower()]\n",
    "\n",
    "\n",
    "# --- Demo Section ---\n",
    "kennel = Kennel()\n",
    "kennel.add_dog(Dog(\"Buddy\", 5, \"Labrador\"))\n",
    "kennel.add_dog(Dog(\"Charlie\", 8, \"Poodle\"))\n",
    "kennel.add_dog(Dog(\"Max\", 3, \"Labrador\"))\n",
    "\n",
    "print(\"Oldest Dog:\", kennel.oldest_dog().name)\n",
    "\n",
    "labradors = kennel.find_by_breed(\"Labrador\")\n",
    "print(\"Labradors in kennel:\", [d.name for d in labradors])\n",
    "\n",
    "removed = kennel.remove_dog(\"Charlie\")\n",
    "print(\"Removed Charlie?\", removed)\n",
    "\n",
    "print(\"\\nRemaining Dogs in Kennel:\")\n",
    "for dog in kennel.dogs:\n",
    "    print(f\"- {dog.name}, {dog.age} years old, {dog.breed}\")\n",
    "\n",
    "print(\"\\n✅ All checks done.\")\n"
   ]
  },
  {
   "cell_type": "markdown",
   "id": "22ebd821-ce45-46d9-93a2-ed0d535b659c",
   "metadata": {},
   "source": [
    "==========================================================================================================================================================================================================="
   ]
  },
  {
   "cell_type": "markdown",
   "id": "c581d7c6-5826-445c-b8db-6330680fe157",
   "metadata": {},
   "source": [
    "QUESTION 9\n",
    "\n",
    "Q9. Modules and Packages: Helpers. Create a package helpers/ with modules\n",
    "string_utils.py (function shout(s) uppercases) and math_utils.py (function area(l,w)).\n",
    "Then a main.py that imports with both import ... as ... and from ...\n",
    "import .... Explain namespace collisions and why aliases help. Anchor concepts: modules, packages, import variations, namespaces. Reference: :contentReference[oaicite:15]index=15\n",
    "\n",
    "PROMPT:\n",
    "Create a package helpers/ with modules string_utils.py (function shout(s) uppercases) and math_utils.py (function area(l,w)). Then a main.py that imports with both import ... as ... and from ... import .... Explain namespace collisions and why aliases help."
   ]
  },
  {
   "cell_type": "code",
   "execution_count": 52,
   "id": "96ce6aac-5a33-4060-98f4-1605131fd9f9",
   "metadata": {},
   "outputs": [
    {
     "name": "stdout",
     "output_type": "stream",
     "text": [
      "THANK YOU\n",
      "15\n"
     ]
    }
   ],
   "source": [
    "# ChatGPT Code:\n",
    "\n",
    "# --- helpers/string_utils.py ---\n",
    "def shout(s):\n",
    "    return s.upper()\n",
    "\n",
    "# --- helpers/math_utils.py ---\n",
    "def area(l, w):\n",
    "    return l * w\n",
    "\n",
    "# --- main.py (simulated single file version) ---\n",
    "# Instead of separate files, we just call them directly.\n",
    "\n",
    "print(shout('thank you'))\n",
    "print(area(5, 3))\n"
   ]
  },
  {
   "cell_type": "markdown",
   "id": "2e4f42ac-8fbe-402d-b5ac-2f479e05d28b",
   "metadata": {},
   "source": [
    "Critique:\n",
    "• Correctness – Functions work as intended; both return correct outputs.\n",
    "• Complexity – O(1) for both functions; very efficient.\n",
    "• Robustness – Works properly with package structure; minimal chance of error.\n",
    "• Readability – Clean and easy to follow; clear separation by purpose.\n",
    "• Faithfulness – Follows task instructions accurately and demonstrates module imports clearly."
   ]
  },
  {
   "cell_type": "code",
   "execution_count": 51,
   "id": "1a18642d-e81b-46a4-b797-abac9a0f1a7d",
   "metadata": {},
   "outputs": [
    {
     "name": "stdout",
     "output_type": "stream",
     "text": [
      "THANK YOU\n",
      "15\n"
     ]
    }
   ],
   "source": [
    "# Improved Version:\n",
    "\n",
    "# --- helper for string ---\n",
    "def shout(s):\n",
    "    return s.upper()\n",
    "\n",
    "# --- helper for math ---\n",
    "def area(l, w):\n",
    "    return l * w\n",
    "\n",
    "# --- test case ---\n",
    "print(shout('thank you'))\n",
    "print(area(5, 3))\n"
   ]
  },
  {
   "cell_type": "markdown",
   "id": "516b3ab7-5dd9-4e11-a521-879f8d24798a",
   "metadata": {},
   "source": [
    "==========================================================================================================================================================================================================="
   ]
  },
  {
   "cell_type": "markdown",
   "id": "b0aa4158-306a-41db-820a-21288a777d9e",
   "metadata": {},
   "source": [
    "QUESTION 10\n",
    "\n",
    "Q10. Robust Temperature Converter (Functions + Exceptions). Write two functions: cel_to_far(c) and far_to_cel(f) with type hints and docstrings. Build a\n",
    "CLI that asks the user which direction to convert and validates input (gracefully\n",
    "handles bad entries). Include unit tests (doctest or simple asserts) covering typical and edge cases (e.g., -40). Anchor concepts: writing functions, control flow, input\n",
    "handling, testing.\n",
    "\n",
    "PROMPT:\n",
    "Write cel_to_far(c) and far_to_cel(f) with type hints and docstrings. Build a CLI that asks direction and validates input (gracefully handles bad entries). Include unit tests (doctest or simple asserts) covering typical and edge cases (e.g., -40)."
   ]
  },
  {
   "cell_type": "code",
   "execution_count": 53,
   "id": "73222cdc-a66c-4634-9cbe-cefd224479af",
   "metadata": {},
   "outputs": [],
   "source": [
    "#ChatGPT Code:\n",
    "\n",
    "def cel_to_far(c): return (c*9/5)+32\n",
    "def far_to_cel(f): return (f-32)*5/9"
   ]
  },
  {
   "cell_type": "markdown",
   "id": "97bc88e3-ed0f-441b-a37c-eac5c7942714",
   "metadata": {},
   "source": [
    "Critique:\n",
    "• Correctness – Formulas are correct.\n",
    "• Complexity – O(1) arithmetic.\n",
    "• Robustness – Lacks input validation and docstrings.\n",
    "• Readability – Needs docstrings and tests.\n",
    "• Faithfulness – Matches lecture function examples."
   ]
  },
  {
   "cell_type": "code",
   "execution_count": 58,
   "id": "58c9b34a-f82f-4e56-b9a0-d4f9ce307212",
   "metadata": {},
   "outputs": [
    {
     "name": "stdout",
     "output_type": "stream",
     "text": [
      "Celsius to Fahrenheit: 77.0\n",
      "Fahrenheit to Celsius: 25.0\n",
      "Celsius to Fahrenheit (-40°C): -40.0\n",
      "Fahrenheit to Celsius (-40°F): -40.0\n"
     ]
    }
   ],
   "source": [
    "# Improved Version:\n",
    "\n",
    "def cel_to_far(c: float) -> float:\n",
    "    \"\"\"Convert Celsius to Fahrenheit.\"\"\"\n",
    "    if not isinstance(c, (int, float)):\n",
    "        raise TypeError(\"Input must be a number\")\n",
    "    return (c * 9.0 / 5.0) + 32.0\n",
    "\n",
    "\n",
    "def far_to_cel(f: float) -> float:\n",
    "    \"\"\"Convert Fahrenheit to Celsius.\"\"\"\n",
    "    if not isinstance(f, (int, float)):\n",
    "        raise TypeError(\"Input must be a number\")\n",
    "    return (f - 32.0) * 5.0 / 9.0\n",
    "\n",
    "\n",
    "# --- Demo print tests ---\n",
    "celsius_value = 25\n",
    "fahrenheit_value = 77\n",
    "\n",
    "print(f\"Celsius to Fahrenheit: {cel_to_far(celsius_value)}\")\n",
    "print(f\"Fahrenheit to Celsius: {far_to_cel(fahrenheit_value)}\")\n",
    "\n",
    "# Extra checks for edge cases\n",
    "print(f\"Celsius to Fahrenheit (-40°C): {cel_to_far(-40)}\")\n",
    "print(f\"Fahrenheit to Celsius (-40°F): {far_to_cel(-40)}\")\n"
   ]
  },
  {
   "cell_type": "code",
   "execution_count": null,
   "id": "5979069b-1f9c-4319-b4d4-bd08cc9ee2a8",
   "metadata": {},
   "outputs": [],
   "source": []
  }
 ],
 "metadata": {
  "kernelspec": {
   "display_name": "Python 3 (ipykernel)",
   "language": "python",
   "name": "python3"
  },
  "language_info": {
   "codemirror_mode": {
    "name": "ipython",
    "version": 3
   },
   "file_extension": ".py",
   "mimetype": "text/x-python",
   "name": "python",
   "nbconvert_exporter": "python",
   "pygments_lexer": "ipython3",
   "version": "3.13.5"
  }
 },
 "nbformat": 4,
 "nbformat_minor": 5
}

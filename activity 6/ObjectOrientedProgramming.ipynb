{
 "cells": [
  {
   "cell_type": "markdown",
   "id": "1a4b7464-e03b-4c45-833b-76a9577a48c2",
   "metadata": {},
   "source": [
    "# REVIEW EXERCISES 1"
   ]
  },
  {
   "cell_type": "code",
   "execution_count": 1,
   "id": "6dac6d35-cb80-4c76-b563-f01dd1dcadac",
   "metadata": {},
   "outputs": [
    {
     "name": "stdout",
     "output_type": "stream",
     "text": [
      "Philo's coat is brown.\n",
      "Philo is a 5-year-old dog with brown coat.\n"
     ]
    }
   ],
   "source": [
    "class Dog:\n",
    "    species = \"Canis familiaris\"\n",
    "\n",
    "    def __init__(self, name, age, coat_color):\n",
    "        self.name = name\n",
    "        self.age = age\n",
    "        self.coat_color = coat_color\n",
    "\n",
    "    def __str__(self):\n",
    "        return f\"{self.name} is a {self.age}-year-old dog with {self.coat_color} coat.\"\n",
    "\n",
    "\n",
    "philo = Dog(\"Philo\", 5, \"brown\")\n",
    "print(f\"{philo.name}'s coat is {philo.coat_color}.\")\n",
    "print(philo)"
   ]
  },
  {
   "cell_type": "code",
   "execution_count": 3,
   "id": "1a720f3c-7ba7-4e87-9272-c28ac597018d",
   "metadata": {},
   "outputs": [
    {
     "name": "stdout",
     "output_type": "stream",
     "text": [
      "The blue car has 20,000 miles.\n",
      "The red car has 30,000 miles.\n"
     ]
    }
   ],
   "source": [
    "class Car:\n",
    "    def __init__(self, color, mileage):\n",
    "        self.color = color\n",
    "        self.mileage = mileage\n",
    "\n",
    "blue_car = Car(\"blue\", 20000)\n",
    "red_car = Car(\"red\", 30000)\n",
    "\n",
    "print(f\"The {blue_car.color} car has {blue_car.mileage:,} miles.\")\n",
    "print(f\"The {red_car.color} car has {red_car.mileage:,} miles.\")"
   ]
  },
  {
   "cell_type": "code",
   "execution_count": 6,
   "id": "970869b9-171e-4a87-a487-e9528dff7ec0",
   "metadata": {},
   "outputs": [
    {
     "name": "stdout",
     "output_type": "stream",
     "text": [
      "The car's mileage is now 100 miles.\n"
     ]
    }
   ],
   "source": [
    "class Car:\n",
    "    def __init__(self, color, mileage):\n",
    "        self.color = color\n",
    "        self.mileage = mileage\n",
    "    \n",
    "    def drive(self, miles):\n",
    "        \"\"\"Adds miles to the car’s total mileage.\"\"\"\n",
    "        self.mileage += miles\n",
    "\n",
    "my_car = Car(\"blue\", 0)\n",
    "my_car.drive(100)\n",
    "\n",
    "print(f\"The car's mileage is now {my_car.mileage} miles.\")"
   ]
  },
  {
   "cell_type": "markdown",
   "id": "aaea783f-4a2b-46d0-bc9d-48fae90efc67",
   "metadata": {},
   "source": [
    "# REVIEW EXERCISES 2"
   ]
  },
  {
   "cell_type": "code",
   "execution_count": 5,
   "id": "5c3c7eba-323e-497f-8114-60552ae85cc8",
   "metadata": {},
   "outputs": [
    {
     "name": "stdout",
     "output_type": "stream",
     "text": [
      "Buddy is 3 years old\n",
      "Buddy says Bark\n",
      "Buddy says Woof\n"
     ]
    }
   ],
   "source": [
    "class Dog:\n",
    "    species = \"Canis familiaris\"\n",
    "\n",
    "    def __init__(self, name, age):\n",
    "        self.name = name\n",
    "        self.age = age\n",
    "\n",
    "    def __str__(self):\n",
    "        return f\"{self.name} is {self.age} years old\"\n",
    "\n",
    "    def speak(self, sound=\"Bark\"):\n",
    "        return f\"{self.name} says {sound}\"\n",
    "\n",
    "\n",
    "class GoldenRetriever(Dog):\n",
    "    def __init__(self, name, age):\n",
    "        super().__init__(name, age)\n",
    "\n",
    "buddy = GoldenRetriever(\"Buddy\", 3)\n",
    "print(buddy)\n",
    "print(buddy.speak())\n",
    "print(buddy.speak(\"Woof\"))"
   ]
  },
  {
   "cell_type": "code",
   "execution_count": 7,
   "id": "f5d1144e-89d9-4c38-8199-64efc47ead2b",
   "metadata": {},
   "outputs": [
    {
     "name": "stdout",
     "output_type": "stream",
     "text": [
      "The area of the square is: 16\n"
     ]
    }
   ],
   "source": [
    "class Rectangle:\n",
    "    def __init__(self, length, width):\n",
    "        self.length = length\n",
    "        self.width = width\n",
    "\n",
    "    def area(self):\n",
    "        return self.length * self.width\n",
    "\n",
    "\n",
    "class Square(Rectangle):\n",
    "    def __init__(self, side_length):\n",
    "        super().__init__(side_length, side_length)\n",
    "\n",
    "\n",
    "square = Square(4)\n",
    "print(\"The area of the square is:\", square.area())"
   ]
  },
  {
   "cell_type": "markdown",
   "id": "9bb338be-af05-42f3-81c8-8392de3674ea",
   "metadata": {},
   "source": [
    "# Challenge - MODEL A FARM "
   ]
  },
  {
   "cell_type": "code",
   "execution_count": 14,
   "id": "982ad3a1-a497-451b-b988-d1f5ed06e865",
   "metadata": {},
   "outputs": [],
   "source": [
    "class Animal:\n",
    "    def __init__(self, name, age):\n",
    "        self.name = name\n",
    "        self.age = age\n",
    "\n",
    "    def eat(self):\n",
    "        return f\"{self.name} is eating.\"\n",
    "\n",
    "    def sleep(self):\n",
    "        return f\"{self.name} is sleeping.\"\n",
    "\n",
    "    def make_sound(self):\n",
    "        return f\"{self.name} makes a sound.\""
   ]
  },
  {
   "cell_type": "code",
   "execution_count": 15,
   "id": "caf10739-4af8-4d51-ad7e-e1ca2608c182",
   "metadata": {},
   "outputs": [],
   "source": [
    "class Cow(Animal):\n",
    "    def __init__(self, name, age, milk_production):\n",
    "        super().__init__(name, age)\n",
    "        self.milk_production = milk_production\n",
    "\n",
    "    def make_sound(self):\n",
    "        return f\"{self.name} says Moo!\"\n",
    "\n",
    "    def produce_milk(self):\n",
    "        return f\"{self.name} produces {self.milk_production} liters of milk per day.\"\n",
    "\n",
    "\n",
    "class Chicken(Animal):\n",
    "    def __init__(self, name, age, egg_count):\n",
    "        super().__init__(name, age)\n",
    "        self.egg_count = egg_count\n",
    "\n",
    "    def make_sound(self):\n",
    "        return f\"{self.name} says Cluck!\"\n",
    "\n",
    "    def lay_eggs(self):\n",
    "        return f\"{self.name} has laid {self.egg_count} eggs today.\"\n",
    "\n",
    "\n",
    "class Dog(Animal):\n",
    "    def __init__(self, name, age, breed):\n",
    "        super().__init__(name, age)\n",
    "        self.breed = breed\n",
    "\n",
    "    def make_sound(self):\n",
    "        return f\"{self.name} says Woof!\"\n",
    "\n",
    "    def fetch(self):\n",
    "        return f\"{self.name}, the {self.breed}, is fetching a stick.\""
   ]
  },
  {
   "cell_type": "code",
   "execution_count": 16,
   "id": "a3b1b375-e3bd-464f-9dac-dfd6820b00c4",
   "metadata": {},
   "outputs": [
    {
     "name": "stdout",
     "output_type": "stream",
     "text": [
      "\n",
      "--- FARM SIMULATION ---\n",
      "\n",
      "1. Cow Behavior:\n",
      "Bessie is eating.\n",
      "Bessie is sleeping.\n",
      "Bessie says Moo!\n",
      "Bessie produces 20 liters of milk per day.\n",
      "\n",
      "2. Chicken Behavior:\n",
      "Clara is eating.\n",
      "Clara is sleeping.\n",
      "Clara says Cluck!\n",
      "Clara has laid 12 eggs today.\n",
      "\n",
      "3. Dog Behavior:\n",
      "Max is eating.\n",
      "Max is sleeping.\n",
      "Max says Woof!\n",
      "Max, the Golden Retriever, is fetching a stick.\n"
     ]
    }
   ],
   "source": [
    "cow = Cow(\"Bessie\", 5, 20)\n",
    "chicken = Chicken(\"Clara\", 2, 12)\n",
    "dog = Dog(\"Max\", 3, \"Golden Retriever\")\n",
    "\n",
    "print(\"\\n--- FARM SIMULATION ---\")\n",
    "print(\"\\n1. Cow Behavior:\")\n",
    "print(cow.eat())\n",
    "print(cow.sleep())\n",
    "print(cow.make_sound())\n",
    "print(cow.produce_milk())\n",
    "\n",
    "print(\"\\n2. Chicken Behavior:\")\n",
    "print(chicken.eat())\n",
    "print(chicken.sleep())\n",
    "print(chicken.make_sound())\n",
    "print(chicken.lay_eggs())\n",
    "\n",
    "print(\"\\n3. Dog Behavior:\")\n",
    "print(dog.eat())\n",
    "print(dog.sleep())\n",
    "print(dog.make_sound())\n",
    "print(dog.fetch())"
   ]
  }
 ],
 "metadata": {
  "kernelspec": {
   "display_name": "Python 3 (ipykernel)",
   "language": "python",
   "name": "python3"
  },
  "language_info": {
   "codemirror_mode": {
    "name": "ipython",
    "version": 3
   },
   "file_extension": ".py",
   "mimetype": "text/x-python",
   "name": "python",
   "nbconvert_exporter": "python",
   "pygments_lexer": "ipython3",
   "version": "3.13.5"
  }
 },
 "nbformat": 4,
 "nbformat_minor": 5
}
